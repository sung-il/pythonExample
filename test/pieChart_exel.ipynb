{
 "cells": [
  {
   "cell_type": "code",
   "execution_count": 189,
   "metadata": {},
   "outputs": [],
   "source": [
    "import openpyxl\n",
    "from openpyxl.chart import PieChart, Reference "
   ]
  },
  {
   "cell_type": "code",
   "execution_count": 190,
   "metadata": {},
   "outputs": [],
   "source": [
    "workbook = openpyxl.load_workbook('ADT Data.xlsx')#, data_only=True)\n",
    "sheet = workbook['Sheet3']"
   ]
  },
  {
   "cell_type": "code",
   "execution_count": 191,
   "metadata": {},
   "outputs": [],
   "source": [
    "labels = sheet['B35': 'B40']\n",
    "titles = sheet['C34': 'E34']\n",
    "data = sheet['C35': 'E40']"
   ]
  },
  {
   "cell_type": "code",
   "execution_count": 192,
   "metadata": {},
   "outputs": [
    {
     "name": "stdout",
     "output_type": "stream",
     "text": [
      "0.034 0.011 0.01\n",
      "0.006 0.007 0.003\n",
      "None None 0.045\n",
      "None 0.646 0.197\n",
      "0.606 None 0.474\n",
      "0.353 0.336 0.271\n",
      "[0.034, 0.006, None, None, 0.606, 0.353]\n",
      "Total Revolving Credit\n",
      "Total Capital Leases\n",
      "General/Other Borrowings\n",
      "Total Term Loans\n",
      "Total Senior Bonds and Notes\n",
      "Total Common Equity\n",
      "['Total Revolving Credit', 'Total Capital Leases', 'General/Other Borrowings', 'Total Term Loans', 'Total Senior Bonds and Notes', 'Total Common Equity']\n",
      "ADT Security Corporation Protection 1 (pre) ADT Inc. (post)\n",
      "['ADT Security Corporation', 'Protection 1 (pre)', 'ADT Inc. (post)']\n"
     ]
    }
   ],
   "source": [
    "#print(data)\n",
    "label = []\n",
    "title = []\n",
    "pie_data1 = []\n",
    "pie_data2 = []\n",
    "pie_data3 = []\n",
    "\n",
    "for b, c, d in data:\n",
    "    print(\"{} {} {}\".format(b.value, c.value, d.value))\n",
    "    pie_data1.append(b.value)\n",
    "    pie_data2.append(c.value)\n",
    "    pie_data3.append(d.value)\n",
    "\n",
    "print(pie_data1)\n",
    "#print(labels)\n",
    "#print(labels[0][0].value)\n",
    "\n",
    "for l in labels:\n",
    "    print(l[0].value)\n",
    "    label.append(l[0].value)\n",
    "    \n",
    "print(label)\n",
    "    \n",
    "for chart1, chart2, chart3 in titles:\n",
    "    print(chart1.value, chart2.value, chart3.value)\n",
    "    title.append(chart1.value)\n",
    "    title.append(chart2.value)\n",
    "    title.append(chart3.value)\n",
    "    \n",
    "print(title)"
   ]
  },
  {
   "cell_type": "code",
   "execution_count": 193,
   "metadata": {},
   "outputs": [
    {
     "name": "stdout",
     "output_type": "stream",
     "text": [
      "Sheet3!$B$35:$B$40\n",
      "Sheet3!$D$35:$D$40\n"
     ]
    }
   ],
   "source": [
    "labels_reference = Reference(sheet, min_col = 2, min_row = 35, max_row = 40) \n",
    "print(labels_reference)\n",
    "data_reference_1 = Reference(sheet, min_col = 3, min_row = 35, max_row = 40)\n",
    "data_reference_2 = Reference(sheet, min_col = 4, min_row = 35, max_row = 40)\n",
    "data_reference_3 = Reference(sheet, min_col = 5, min_row = 35, max_row = 40)\n",
    "print(data_reference_2)"
   ]
  },
  {
   "cell_type": "code",
   "execution_count": 194,
   "metadata": {},
   "outputs": [],
   "source": [
    "chart1 = PieChart()\n",
    "\n",
    "chart1.add_data(data_reference_1)#, titles_from_data = True)\n",
    "chart1.set_categories(labels_reference)\n",
    "chart1.title = title[0]\n",
    "sheet.add_chart(chart1, \"C76\")\n",
    "\n",
    "workbook.save(\"PieChart.xlsx\")"
   ]
  },
  {
   "cell_type": "code",
   "execution_count": null,
   "metadata": {},
   "outputs": [],
   "source": []
  }
 ],
 "metadata": {
  "kernelspec": {
   "display_name": "Python 3",
   "language": "python",
   "name": "python3"
  },
  "language_info": {
   "codemirror_mode": {
    "name": "ipython",
    "version": 3
   },
   "file_extension": ".py",
   "mimetype": "text/x-python",
   "name": "python",
   "nbconvert_exporter": "python",
   "pygments_lexer": "ipython3",
   "version": "3.6.4"
  }
 },
 "nbformat": 4,
 "nbformat_minor": 2
}
